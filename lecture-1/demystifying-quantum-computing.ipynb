{
 "cells": [
  {
   "cell_type": "markdown",
   "metadata": {},
   "source": [
    "(lecture-1)=\n",
    "# Lecture 1: Demystifying Quantum Computing\n",
    "\n",
    "\n",
    "\n",
    "```{warning} These lecture notes are a work in progress and are not a replacement for watching the lecture video, it's intended to be a supplementary reading after watching the lecture \n",
    "```\n",
    "\n",
    "```{admonition} Learning outcomes\n",
    ":class: tip\n",
    "\n",
    "Time to learn about quadratic equations!\n",
    "```\n",
    "\n",
    "## The Basics\n",
    "Here we introduce quadratic equations\n"
   ]
  },
  {
   "cell_type": "code",
   "execution_count": 5,
   "metadata": {},
   "outputs": [
    {
     "data": {
      "application/vnd.jupyter.widget-view+json": {
       "model_id": "be25c9f00f3a4336a2aadc883bc3fc04",
       "version_major": 2,
       "version_minor": 0
      },
      "text/plain": [
       "interactive(children=(FloatSlider(value=1.0, description='a:', max=3.0, min=-3.0, step=0.01), FloatSlider(valu…"
      ]
     },
     "metadata": {},
     "output_type": "display_data"
    }
   ],
   "source": [
    "# Add a cell with this code in your notebook\n",
    "import numpy as np\n",
    "import matplotlib.pyplot as plt\n",
    "%matplotlib inline\n",
    "import ipywidgets as widgets\n",
    "from IPython.display import display\n",
    "\n",
    "\n",
    "def plot_quadratic(a, b, c):\n",
    "    x = np.linspace(-10, 10, 1000)\n",
    "    y = a*x**2 + b*x + c\n",
    "    \n",
    "    fig, ax = plt.subplots(figsize=(8, 6))\n",
    "    ax.plot(x, y)\n",
    "    ax.grid(True)\n",
    "    ax.axhline(y=0, color='k', linestyle='-', alpha=0.3)\n",
    "    ax.axvline(x=0, color='k', linestyle='-', alpha=0.3)\n",
    "    ax.set_title(f'Quadratic Function: {a}x² + {b}x + {c}')\n",
    "    \n",
    "    # Calculate roots if they exist\n",
    "    discriminant = b**2 - 4*a*c\n",
    "    if discriminant >= 0:\n",
    "        x1 = (-b + np.sqrt(discriminant)) / (2*a)\n",
    "        x2 = (-b - np.sqrt(discriminant)) / (2*a)\n",
    "        ax.plot([x1, x2], [0, 0], 'ro', markersize=8)\n",
    "        ax.annotate(f'x₁ = {x1:.2f}', (x1, 0), xytext=(10, 10), \n",
    "                   textcoords='offset points')\n",
    "        ax.annotate(f'x₂ = {x2:.2f}', (x2, 0), xytext=(10, 10), \n",
    "                   textcoords='offset points')\n",
    "    \n",
    "    plt.show()\n",
    "\n",
    "@widgets.interact(\n",
    "    a=widgets.FloatSlider(min=-3, max=3, step=0.01, value=1, description='a:'),\n",
    "    b=widgets.FloatSlider(min=-10, max=10, step=0.01, value=-3, description='b:'),\n",
    "    c=widgets.FloatSlider(min=-10, max=10, step=0.01, value=2, description='c:')\n",
    ")\n",
    "def interactive_quadratic(a, b, c):\n",
    "    plot_quadratic(a, b, c)"
   ]
  }
 ],
 "metadata": {
  "kernelspec": {
   "display_name": "Ecnetica",
   "language": "python",
   "name": "python3"
  },
  "language_info": {
   "codemirror_mode": {
    "name": "ipython",
    "version": 3
   },
   "file_extension": ".py",
   "mimetype": "text/x-python",
   "name": "python",
   "nbconvert_exporter": "python",
   "pygments_lexer": "ipython3",
   "version": "3.12.9"
  }
 },
 "nbformat": 4,
 "nbformat_minor": 2
}
